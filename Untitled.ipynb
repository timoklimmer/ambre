{
 "cells": [
  {
   "cell_type": "code",
   "execution_count": 12,
   "metadata": {},
   "outputs": [],
   "source": [
    "from faker import Faker\n",
    "from timeit import default_timer as timer\n",
    "from ambre import Database\n",
    "\n",
    "number_transactions = 10000\n",
    "\n",
    "faker = Faker()\n",
    "transactions = list([faker.name().replace(\" \", \"\") for i in range(0, number_transactions)])"
   ]
  },
  {
   "cell_type": "code",
   "execution_count": 13,
   "metadata": {
    "tags": []
   },
   "outputs": [
    {
     "output_type": "stream",
     "name": "stdout",
     "text": [
      "Inserting 10000 transactions...\n",
      "Done.\n",
      "Execution took 3.5046005000000378 seconds.\n",
      "Inserting same 10000 transactions again...\n",
      "Done.\n",
      "Execution took 2.902900000000045 seconds.\n"
     ]
    }
   ],
   "source": [
    "database = Database(\"a\", max_antecedents_length=3)\n",
    "print(f\"Inserting {number_transactions} transactions...\")\n",
    "start = timer()\n",
    "database.insert_transactions(transactions, show_progress=False)\n",
    "end = timer()\n",
    "print(\"Done.\")\n",
    "print(f\"Execution took {end - start} seconds.\")\n",
    "\n",
    "print(f\"Inserting same {number_transactions} transactions again...\")\n",
    "start = timer()\n",
    "database.insert_transactions(transactions, show_progress=False)\n",
    "end = timer()\n",
    "print(\"Done.\")\n",
    "print(f\"Execution took {end - start} seconds.\")"
   ]
  },
  {
   "cell_type": "code",
   "execution_count": 3,
   "metadata": {},
   "outputs": [
    {
     "output_type": "execute_result",
     "data": {
      "text/plain": [
       "                                  itemset  occurrences  support  \\\n",
       "4                       a ∪ . ∪ b ∪ d ∪ g            2    0.001   \n",
       "5                   a ∪ . ∪ b ∪ d ∪ g ∪ i            2    0.001   \n",
       "6               a ∪ . ∪ b ∪ d ∪ g ∪ i ∪ n            2    0.001   \n",
       "7           a ∪ . ∪ b ∪ d ∪ g ∪ i ∪ n ∪ o            2    0.001   \n",
       "8       a ∪ . ∪ b ∪ d ∪ g ∪ i ∪ n ∪ o ∪ r            2    0.001   \n",
       "...                                   ...          ...      ...   \n",
       "298462                  r ∪ s ∪ t ∪ v ∪ y            2    0.001   \n",
       "298464                  r ∪ s ∪ t ∪ w ∪ x            4    0.002   \n",
       "298465                  r ∪ s ∪ t ∪ w ∪ y           20    0.010   \n",
       "298466                  r ∪ s ∪ t ∪ w ∪ z            2    0.001   \n",
       "298474                  r ∪ s ∪ u ∪ y ∪ z            2    0.001   \n",
       "\n",
       "        itemset_length  \n",
       "4                    5  \n",
       "5                    6  \n",
       "6                    7  \n",
       "7                    8  \n",
       "8                    9  \n",
       "...                ...  \n",
       "298462               5  \n",
       "298464               5  \n",
       "298465               5  \n",
       "298466               5  \n",
       "298474               5  \n",
       "\n",
       "[284232 rows x 4 columns]"
      ],
      "text/html": "<div>\n<style scoped>\n    .dataframe tbody tr th:only-of-type {\n        vertical-align: middle;\n    }\n\n    .dataframe tbody tr th {\n        vertical-align: top;\n    }\n\n    .dataframe thead th {\n        text-align: right;\n    }\n</style>\n<table border=\"1\" class=\"dataframe\">\n  <thead>\n    <tr style=\"text-align: right;\">\n      <th></th>\n      <th>itemset</th>\n      <th>occurrences</th>\n      <th>support</th>\n      <th>itemset_length</th>\n    </tr>\n  </thead>\n  <tbody>\n    <tr>\n      <th>4</th>\n      <td>a ∪ . ∪ b ∪ d ∪ g</td>\n      <td>2</td>\n      <td>0.001</td>\n      <td>5</td>\n    </tr>\n    <tr>\n      <th>5</th>\n      <td>a ∪ . ∪ b ∪ d ∪ g ∪ i</td>\n      <td>2</td>\n      <td>0.001</td>\n      <td>6</td>\n    </tr>\n    <tr>\n      <th>6</th>\n      <td>a ∪ . ∪ b ∪ d ∪ g ∪ i ∪ n</td>\n      <td>2</td>\n      <td>0.001</td>\n      <td>7</td>\n    </tr>\n    <tr>\n      <th>7</th>\n      <td>a ∪ . ∪ b ∪ d ∪ g ∪ i ∪ n ∪ o</td>\n      <td>2</td>\n      <td>0.001</td>\n      <td>8</td>\n    </tr>\n    <tr>\n      <th>8</th>\n      <td>a ∪ . ∪ b ∪ d ∪ g ∪ i ∪ n ∪ o ∪ r</td>\n      <td>2</td>\n      <td>0.001</td>\n      <td>9</td>\n    </tr>\n    <tr>\n      <th>...</th>\n      <td>...</td>\n      <td>...</td>\n      <td>...</td>\n      <td>...</td>\n    </tr>\n    <tr>\n      <th>298462</th>\n      <td>r ∪ s ∪ t ∪ v ∪ y</td>\n      <td>2</td>\n      <td>0.001</td>\n      <td>5</td>\n    </tr>\n    <tr>\n      <th>298464</th>\n      <td>r ∪ s ∪ t ∪ w ∪ x</td>\n      <td>4</td>\n      <td>0.002</td>\n      <td>5</td>\n    </tr>\n    <tr>\n      <th>298465</th>\n      <td>r ∪ s ∪ t ∪ w ∪ y</td>\n      <td>20</td>\n      <td>0.010</td>\n      <td>5</td>\n    </tr>\n    <tr>\n      <th>298466</th>\n      <td>r ∪ s ∪ t ∪ w ∪ z</td>\n      <td>2</td>\n      <td>0.001</td>\n      <td>5</td>\n    </tr>\n    <tr>\n      <th>298474</th>\n      <td>r ∪ s ∪ u ∪ y ∪ z</td>\n      <td>2</td>\n      <td>0.001</td>\n      <td>5</td>\n    </tr>\n  </tbody>\n</table>\n<p>284232 rows × 4 columns</p>\n</div>"
     },
     "metadata": {},
     "execution_count": 3
    }
   ],
   "source": [
    "a = database.derive_frequent_itemsets_pandas()\n",
    "a[a[\"itemset_length\"] > 4]"
   ]
  },
  {
   "cell_type": "code",
   "execution_count": 9,
   "metadata": {},
   "outputs": [
    {
     "output_type": "stream",
     "name": "stdout",
     "text": [
      "         2680841 function calls in 2.857 seconds\n",
      "\n",
      "   Ordered by: standard name\n",
      "\n",
      "   ncalls  tottime  percall  cumtime  percall filename:lineno(function)\n",
      "        1    0.000    0.000    2.857    2.857 <string>:1(<module>)\n",
      "        1    0.001    0.001    2.857    2.857 database.py:28(insert_transactions)\n",
      "     1000    0.002    0.000    2.856    0.003 database.py:39(insert_transaction)\n",
      "     1000    0.304    0.000    2.803    0.003 itemsets_trie.py:21(insert_normalized_transaction)\n",
      "  1132056    2.203    0.000    2.499    0.000 itemsets_trie.py:28(insert_itemset)\n",
      "   324116    0.236    0.000    0.236    0.000 itemsets_trie.py:88(__init__)\n",
      "     1000    0.005    0.000    0.051    0.000 preprocessor.py:16(normalize_itemset)\n",
      "     1000    0.007    0.000    0.034    0.000 preprocessor.py:19(<listcomp>)\n",
      "     1000    0.002    0.000    0.004    0.000 preprocessor.py:21(<listcomp>)\n",
      "     1000    0.001    0.000    0.008    0.000 preprocessor.py:27(sort_itemset_consequents_first)\n",
      "     1000    0.004    0.000    0.007    0.000 preprocessor.py:32(extract_consequents_antecedents)\n",
      "    12247    0.005    0.000    0.025    0.000 re.py:187(sub)\n",
      "    12247    0.007    0.000    0.010    0.000 re.py:273(_compile)\n",
      "        1    0.000    0.000    2.857    2.857 {built-in method builtins.exec}\n",
      "    12247    0.003    0.000    0.003    0.000 {built-in method builtins.isinstance}\n",
      "  1133056    0.060    0.000    0.060    0.000 {built-in method builtins.len}\n",
      "     9127    0.001    0.000    0.001    0.000 {method 'append' of 'list' objects}\n",
      "        1    0.000    0.000    0.000    0.000 {method 'disable' of '_lsprof.Profiler' objects}\n",
      "    12247    0.001    0.000    0.001    0.000 {method 'lower' of 'str' objects}\n",
      "     2000    0.003    0.000    0.003    0.000 {method 'sort' of 'list' objects}\n",
      "    12247    0.001    0.000    0.001    0.000 {method 'strip' of 'str' objects}\n",
      "    12247    0.010    0.000    0.010    0.000 {method 'sub' of 're.Pattern' objects}\n",
      "\n",
      "\n",
      "2.88 s ± 0 ns per loop (mean ± std. dev. of 1 run, 1 loop each)\n"
     ]
    }
   ],
   "source": [
    "%%timeit -n1 -r1 -c\n",
    "import cProfile\n",
    "cProfile.run(\"database.insert_transactions(transactions, show_progress=False)\")"
   ]
  },
  {
   "cell_type": "code",
   "execution_count": null,
   "metadata": {},
   "outputs": [],
   "source": []
  }
 ],
 "metadata": {
  "kernelspec": {
   "name": "python3",
   "display_name": "Python 3.7.9 64-bit ('ambre': conda)",
   "metadata": {
    "interpreter": {
     "hash": "5a0d073d75f44d51dc3fb2c11406086b250e6c0f1226cbe106b03d2de16174ea"
    }
   }
  },
  "language_info": {
   "codemirror_mode": {
    "name": "ipython",
    "version": 3
   },
   "file_extension": ".py",
   "mimetype": "text/x-python",
   "name": "python",
   "nbconvert_exporter": "python",
   "pygments_lexer": "ipython3",
   "version": "3.7.9-final"
  }
 },
 "nbformat": 4,
 "nbformat_minor": 4
}