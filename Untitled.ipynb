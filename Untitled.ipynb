{
 "cells": [
  {
   "cell_type": "code",
   "execution_count": 3,
   "metadata": {},
   "outputs": [],
   "source": [
    "from faker import Faker\n",
    "from timeit import default_timer as timer\n",
    "from ambre import Database\n",
    "\n",
    "number_transactions = 1000\n",
    "\n",
    "faker = Faker()\n",
    "transactions = list([faker.name().replace(\" \", \"\") for i in range(0, number_transactions)])"
   ]
  },
  {
   "cell_type": "code",
   "execution_count": 5,
   "metadata": {},
   "outputs": [
    {
     "output_type": "stream",
     "name": "stdout",
     "text": [
      "Inserting 1000 transactions...\n",
      "Done.\n",
      "Execution took 3.7819176 seconds.\n",
      "Inserting 1000 transactions...\n",
      "Done.\n",
      "Execution took 2.053521400000008 seconds.\n"
     ]
    }
   ],
   "source": [
    "database = Database(\"a\")\n",
    "print(f\"Inserting {number_transactions} transactions...\")\n",
    "start = timer()\n",
    "database.insert_transactions(transactions, show_progress=False)\n",
    "end = timer()\n",
    "print(\"Done.\")\n",
    "print(f\"Execution took {end - start} seconds.\")\n",
    "\n",
    "print(f\"Inserting {number_transactions} transactions...\")\n",
    "start = timer()\n",
    "database.insert_transactions(transactions, show_progress=False)\n",
    "end = timer()\n",
    "print(\"Done.\")\n",
    "print(f\"Execution took {end - start} seconds.\")"
   ]
  },
  {
   "cell_type": "code",
   "execution_count": 7,
   "metadata": {},
   "outputs": [
    {
     "output_type": "stream",
     "name": "stdout",
     "text": [
      "         2675867 function calls in 4.130 seconds\n\n   Random listing order was used\n\n   ncalls  tottime  percall  cumtime  percall filename:lineno(function)\n    12302    0.007    0.000    0.027    0.000 C:\\Users\\tklimmer\\AppData\\Local\\Continuum\\miniconda3\\envs\\ambre\\lib\\re.py:203(sub)\n    12302    0.007    0.000    0.011    0.000 C:\\Users\\tklimmer\\AppData\\Local\\Continuum\\miniconda3\\envs\\ambre\\lib\\re.py:289(_compile)\n        1    0.000    0.000    0.000    0.000 C:\\Users\\tklimmer\\AppData\\Local\\Continuum\\miniconda3\\envs\\ambre\\lib\\cProfile.py:50(create_stats)\n        1    0.000    0.000    0.000    0.000 C:\\Users\\tklimmer\\AppData\\Local\\Continuum\\miniconda3\\envs\\ambre\\lib\\pstats.py:117(init)\n        1    0.000    0.000    0.000    0.000 C:\\Users\\tklimmer\\AppData\\Local\\Continuum\\miniconda3\\envs\\ambre\\lib\\pstats.py:107(__init__)\n        1    0.000    0.000    0.000    0.000 C:\\Users\\tklimmer\\AppData\\Local\\Continuum\\miniconda3\\envs\\ambre\\lib\\pstats.py:136(load_stats)\n     1000    0.003    0.000    4.128    0.004 c:\\users\\tklimmer\\desktop\\ambre\\packages\\ambre\\ambre\\database.py:39(insert_transaction)\n        1    0.001    0.001    4.130    4.130 c:\\users\\tklimmer\\desktop\\ambre\\packages\\ambre\\ambre\\database.py:28(insert_transactions)\n     1000    0.334    0.000    4.070    0.004 c:\\users\\tklimmer\\desktop\\ambre\\packages\\ambre\\ambre\\itemsets_trie.py:21(insert_normalized_transaction)\n  1118360    3.428    0.000    3.735    0.000 c:\\users\\tklimmer\\desktop\\ambre\\packages\\ambre\\ambre\\itemsets_trie.py:28(insert_itemset)\n   346235    0.219    0.000    0.219    0.000 c:\\users\\tklimmer\\desktop\\ambre\\packages\\ambre\\ambre\\itemsets_trie.py:88(__init__)\n     1000    0.009    0.000    0.037    0.000 c:\\users\\tklimmer\\desktop\\ambre\\packages\\ambre\\ambre\\preprocessor.py:19(<listcomp>)\n     1000    0.003    0.000    0.005    0.000 c:\\users\\tklimmer\\desktop\\ambre\\packages\\ambre\\ambre\\preprocessor.py:21(<listcomp>)\n     1000    0.005    0.000    0.056    0.000 c:\\users\\tklimmer\\desktop\\ambre\\packages\\ambre\\ambre\\preprocessor.py:16(normalize_itemset)\n     1000    0.001    0.000    0.009    0.000 c:\\users\\tklimmer\\desktop\\ambre\\packages\\ambre\\ambre\\preprocessor.py:27(sort_itemset_consequents_first)\n     1000    0.004    0.000    0.008    0.000 c:\\users\\tklimmer\\desktop\\ambre\\packages\\ambre\\ambre\\preprocessor.py:32(extract_consequents_antecedents)\n        1    0.000    0.000    0.000    0.000 {method 'disable' of '_lsprof.Profiler' objects}\n    12302    0.009    0.000    0.009    0.000 {method 'sub' of 're.Pattern' objects}\n     9091    0.001    0.000    0.001    0.000 {method 'append' of 'list' objects}\n     2000    0.002    0.000    0.002    0.000 {method 'sort' of 'list' objects}\n    12302    0.002    0.000    0.002    0.000 {method 'lower' of 'str' objects}\n    12302    0.001    0.000    0.001    0.000 {method 'strip' of 'str' objects}\n        1    0.000    0.000    0.000    0.000 {built-in method builtins.hasattr}\n    12303    0.004    0.000    0.004    0.000 {built-in method builtins.isinstance}\n  1119361    0.088    0.000    0.088    0.000 {built-in method builtins.len}\n\n\n"
     ]
    }
   ],
   "source": [
    "import cProfile\n",
    "import pstats\n",
    "database = Database(\"a\")\n",
    "with cProfile.Profile() as p:\n",
    "  database.insert_transactions(transactions, show_progress=False)\n",
    "  ps = pstats.Stats(p)\n",
    "  ps.print_stats()"
   ]
  },
  {
   "cell_type": "code",
   "execution_count": 24,
   "metadata": {},
   "outputs": [
    {
     "output_type": "stream",
     "name": "stdout",
     "text": [
      "         2154453 function calls in 2.888 seconds\n\n   Ordered by: standard name\n\n   ncalls  tottime  percall  cumtime  percall filename:lineno(function)\n        1    0.000    0.000    2.888    2.888 <string>:1(<module>)\n  1031576    2.302    0.000    2.384    0.000 ambre.py:121(insert_itemset)\n        1    0.002    0.002    2.888    2.888 ambre.py:295(insert_transactions)\n     1000    0.444    0.000    2.887    0.003 ambre.py:306(insert_transaction)\n     1000    0.006    0.000    0.058    0.000 ambre.py:42(normalize_itemset)\n     1000    0.009    0.000    0.038    0.000 ambre.py:45(<listcomp>)\n     1000    0.003    0.000    0.005    0.000 ambre.py:47(<listcomp>)\n     1000    0.001    0.000    0.009    0.000 ambre.py:53(sort_itemset_consequents_first)\n     1000    0.005    0.000    0.008    0.000 ambre.py:58(extract_consequents_antecedents)\n    12208    0.007    0.000    0.028    0.000 re.py:203(sub)\n    12208    0.008    0.000    0.011    0.000 re.py:289(_compile)\n        1    0.000    0.000    2.888    2.888 {built-in method builtins.exec}\n    12208    0.004    0.000    0.004    0.000 {built-in method builtins.isinstance}\n  1032576    0.082    0.000    0.082    0.000 {built-in method builtins.len}\n     9049    0.001    0.000    0.001    0.000 {method 'append' of 'list' objects}\n        1    0.000    0.000    0.000    0.000 {method 'disable' of '_lsprof.Profiler' objects}\n    12208    0.002    0.000    0.002    0.000 {method 'lower' of 'str' objects}\n     2000    0.002    0.000    0.002    0.000 {method 'sort' of 'list' objects}\n    12208    0.001    0.000    0.001    0.000 {method 'strip' of 'str' objects}\n    12208    0.009    0.000    0.009    0.000 {method 'sub' of 're.Pattern' objects}\n\n\n2.9 s ± 0 ns per loop (mean ± std. dev. of 1 run, 1 loop each)\n"
     ]
    }
   ],
   "source": [
    "%%timeit -n1 -r1 -c\n",
    "import cProfile\n",
    "database = Database(\"a\")\n",
    "cProfile.run(\"database.insert_transactions(transactions, show_progress=False)\")"
   ]
  },
  {
   "cell_type": "code",
   "execution_count": null,
   "metadata": {},
   "outputs": [],
   "source": []
  }
 ],
 "metadata": {
  "kernelspec": {
   "name": "python3",
   "display_name": "Python 3.7.9 64-bit ('ambre': conda)",
   "metadata": {
    "interpreter": {
     "hash": "5a0d073d75f44d51dc3fb2c11406086b250e6c0f1226cbe106b03d2de16174ea"
    }
   }
  },
  "language_info": {
   "codemirror_mode": {
    "name": "ipython",
    "version": 3
   },
   "file_extension": ".py",
   "mimetype": "text/x-python",
   "name": "python",
   "nbconvert_exporter": "python",
   "pygments_lexer": "ipython3",
   "version": "3.7.9-final"
  }
 },
 "nbformat": 4,
 "nbformat_minor": 4
}